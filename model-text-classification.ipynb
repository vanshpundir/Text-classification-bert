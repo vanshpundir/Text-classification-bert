{
 "cells": [
  {
   "cell_type": "markdown",
   "metadata": {},
   "source": [
    "## Importing libraries"
   ]
  },
  {
   "cell_type": "code",
   "execution_count": 1,
   "metadata": {
    "execution": {
     "iopub.execute_input": "2023-03-07T11:46:13.393963Z",
     "iopub.status.busy": "2023-03-07T11:46:13.392699Z",
     "iopub.status.idle": "2023-03-07T11:46:13.400279Z",
     "shell.execute_reply": "2023-03-07T11:46:13.398917Z",
     "shell.execute_reply.started": "2023-03-07T11:46:13.393919Z"
    }
   },
   "outputs": [],
   "source": [
    "import pandas as pd\n",
    "import numpy as np\n",
    "import matplotlib.pyplot as plt\n",
    "from tqdm.auto import tqdm\n",
    "import tensorflow as tf\n",
    "from transformers import BertTokenizer\n",
    "from sklearn.model_selection import train_test_split\n"
   ]
  },
  {
   "cell_type": "markdown",
   "metadata": {},
   "source": [
    "# Preprocessing"
   ]
  },
  {
   "cell_type": "code",
   "execution_count": 4,
   "metadata": {
    "execution": {
     "iopub.execute_input": "2023-03-07T11:46:13.403346Z",
     "iopub.status.busy": "2023-03-07T11:46:13.402355Z",
     "iopub.status.idle": "2023-03-07T11:46:25.241459Z",
     "shell.execute_reply": "2023-03-07T11:46:25.240302Z",
     "shell.execute_reply.started": "2023-03-07T11:46:13.403306Z"
    }
   },
   "outputs": [],
   "source": [
    "## we will be removing all the stopwords from all the text file and stemming the text.\n",
    "\n",
    "from nltk.corpus import stopwords\n",
    "import nltk\n",
    "\n",
    "stop_words = stopwords.words('english')\n",
    "prt = nltk.stem.PorterStemmer()\n",
    "\n",
    "def preprocess(document_path):\n",
    "    \n",
    "    with open(document_path, 'r') as file:\n",
    "        document = file.read()\n",
    "    \n",
    "    tokens = nltk.word_tokenize(document)\n",
    "\n",
    "    tokens_pun_lower = [i.lower() for i in tokens if i.isalnum()]\n",
    "\n",
    "    tokens_stop = [i for i in tokens_pun_lower if i not in stop_words]\n",
    "\n",
    "    terms = [prt.stem(i) for i in tokens_stop]\n",
    "    \n",
    "    return \" \".join(terms)\n",
    "import os\n",
    "Data = []\n",
    "for dirname, _, filenames in os.walk('./Dataset'):\n",
    "    for filename in filenames:\n",
    "        #print(os.path.join(dirname, filename))\n",
    "        \n",
    "        doc_class = filename.split('_')[0].lower()\n",
    "        doc_titles = filename\n",
    "        documents = preprocess(os.path.join(dirname, filename))\n",
    "        \n",
    "        Data.append([doc_titles, documents, doc_class])\n",
    "\n",
    "df = pd.DataFrame (Data, columns = ['Title', 'Document', 'Class'])\n"
   ]
  },
  {
   "cell_type": "code",
   "execution_count": 5,
   "metadata": {
    "execution": {
     "iopub.execute_input": "2023-03-07T11:46:25.243692Z",
     "iopub.status.busy": "2023-03-07T11:46:25.243275Z",
     "iopub.status.idle": "2023-03-07T11:46:25.258323Z",
     "shell.execute_reply": "2023-03-07T11:46:25.257003Z",
     "shell.execute_reply.started": "2023-03-07T11:46:25.243640Z"
    }
   },
   "outputs": [
    {
     "data": {
      "text/html": [
       "<div>\n",
       "<style scoped>\n",
       "    .dataframe tbody tr th:only-of-type {\n",
       "        vertical-align: middle;\n",
       "    }\n",
       "\n",
       "    .dataframe tbody tr th {\n",
       "        vertical-align: top;\n",
       "    }\n",
       "\n",
       "    .dataframe thead th {\n",
       "        text-align: right;\n",
       "    }\n",
       "</style>\n",
       "<table border=\"1\" class=\"dataframe\">\n",
       "  <thead>\n",
       "    <tr style=\"text-align: right;\">\n",
       "      <th></th>\n",
       "      <th>Title</th>\n",
       "      <th>Document</th>\n",
       "      <th>Class</th>\n",
       "    </tr>\n",
       "  </thead>\n",
       "  <tbody>\n",
       "    <tr>\n",
       "      <th>0</th>\n",
       "      <td>technologie_82.txt</td>\n",
       "      <td>game firm tough uk video game firm face test t...</td>\n",
       "      <td>technologie</td>\n",
       "    </tr>\n",
       "    <tr>\n",
       "      <th>1</th>\n",
       "      <td>technologie_96.txt</td>\n",
       "      <td>california set fine spywar maker comput progra...</td>\n",
       "      <td>technologie</td>\n",
       "    </tr>\n",
       "    <tr>\n",
       "      <th>2</th>\n",
       "      <td>technologie_41.txt</td>\n",
       "      <td>bet launch latest pocket offic 3g devic also w...</td>\n",
       "      <td>technologie</td>\n",
       "    </tr>\n",
       "    <tr>\n",
       "      <th>3</th>\n",
       "      <td>technologie_55.txt</td>\n",
       "      <td>oneplu 8 full spec comparison chart 8 8 pro 7 ...</td>\n",
       "      <td>technologie</td>\n",
       "    </tr>\n",
       "    <tr>\n",
       "      <th>4</th>\n",
       "      <td>technologie_69.txt</td>\n",
       "      <td>fear lost mobil peopl becom depend mobil phone...</td>\n",
       "      <td>technologie</td>\n",
       "    </tr>\n",
       "    <tr>\n",
       "      <th>...</th>\n",
       "      <td>...</td>\n",
       "      <td>...</td>\n",
       "      <td>...</td>\n",
       "    </tr>\n",
       "    <tr>\n",
       "      <th>995</th>\n",
       "      <td>graphics_38.txt</td>\n",
       "      <td>1pscti aqe srp stephen pietrowicz write go ori...</td>\n",
       "      <td>graphics</td>\n",
       "    </tr>\n",
       "    <tr>\n",
       "      <th>996</th>\n",
       "      <td>graphics_10.txt</td>\n",
       "      <td>hello everybodi use pixar renderman 3d scene d...</td>\n",
       "      <td>graphics</td>\n",
       "    </tr>\n",
       "    <tr>\n",
       "      <th>997</th>\n",
       "      <td>graphics_100.txt</td>\n",
       "      <td>need help creat 4x4 perspect matrix like use t...</td>\n",
       "      <td>graphics</td>\n",
       "    </tr>\n",
       "    <tr>\n",
       "      <th>998</th>\n",
       "      <td>graphics_11.txt</td>\n",
       "      <td>articl 1pp991 t63 jk87377 kouhia juhana write ...</td>\n",
       "      <td>graphics</td>\n",
       "    </tr>\n",
       "    <tr>\n",
       "      <th>999</th>\n",
       "      <td>graphics_39.txt</td>\n",
       "      <td>andrey andr yew write d9hh henrik harmsen writ...</td>\n",
       "      <td>graphics</td>\n",
       "    </tr>\n",
       "  </tbody>\n",
       "</table>\n",
       "<p>1000 rows × 3 columns</p>\n",
       "</div>"
      ],
      "text/plain": [
       "                  Title                                           Document  \\\n",
       "0    technologie_82.txt  game firm tough uk video game firm face test t...   \n",
       "1    technologie_96.txt  california set fine spywar maker comput progra...   \n",
       "2    technologie_41.txt  bet launch latest pocket offic 3g devic also w...   \n",
       "3    technologie_55.txt  oneplu 8 full spec comparison chart 8 8 pro 7 ...   \n",
       "4    technologie_69.txt  fear lost mobil peopl becom depend mobil phone...   \n",
       "..                  ...                                                ...   \n",
       "995     graphics_38.txt  1pscti aqe srp stephen pietrowicz write go ori...   \n",
       "996     graphics_10.txt  hello everybodi use pixar renderman 3d scene d...   \n",
       "997    graphics_100.txt  need help creat 4x4 perspect matrix like use t...   \n",
       "998     graphics_11.txt  articl 1pp991 t63 jk87377 kouhia juhana write ...   \n",
       "999     graphics_39.txt  andrey andr yew write d9hh henrik harmsen writ...   \n",
       "\n",
       "           Class  \n",
       "0    technologie  \n",
       "1    technologie  \n",
       "2    technologie  \n",
       "3    technologie  \n",
       "4    technologie  \n",
       "..           ...  \n",
       "995     graphics  \n",
       "996     graphics  \n",
       "997     graphics  \n",
       "998     graphics  \n",
       "999     graphics  \n",
       "\n",
       "[1000 rows x 3 columns]"
      ]
     },
     "execution_count": 5,
     "metadata": {},
     "output_type": "execute_result"
    }
   ],
   "source": [
    "df"
   ]
  },
  {
   "cell_type": "code",
   "execution_count": 97,
   "metadata": {
    "execution": {
     "iopub.execute_input": "2023-03-07T11:46:25.262632Z",
     "iopub.status.busy": "2023-03-07T11:46:25.261746Z",
     "iopub.status.idle": "2023-03-07T11:46:25.441608Z",
     "shell.execute_reply": "2023-03-07T11:46:25.440477Z",
     "shell.execute_reply.started": "2023-03-07T11:46:25.262589Z"
    }
   },
   "outputs": [],
   "source": [
    "tokenizer = BertTokenizer.from_pretrained('bert-base-cased')"
   ]
  },
  {
   "cell_type": "code",
   "execution_count": 98,
   "metadata": {
    "execution": {
     "iopub.execute_input": "2023-03-07T11:46:25.443409Z",
     "iopub.status.busy": "2023-03-07T11:46:25.443008Z",
     "iopub.status.idle": "2023-03-07T11:46:25.484140Z",
     "shell.execute_reply": "2023-03-07T11:46:25.483146Z",
     "shell.execute_reply.started": "2023-03-07T11:46:25.443367Z"
    }
   },
   "outputs": [],
   "source": [
    "token = tokenizer.encode_plus(\n",
    "    df['Document'].iloc[0], \n",
    "    max_length=256, \n",
    "    truncation=True, \n",
    "    padding='max_length', \n",
    "    add_special_tokens=True,\n",
    "    return_tensors='tf'\n",
    ")"
   ]
  },
  {
   "cell_type": "code",
   "execution_count": 99,
   "metadata": {
    "execution": {
     "iopub.execute_input": "2023-03-07T11:46:25.487400Z",
     "iopub.status.busy": "2023-03-07T11:46:25.487114Z",
     "iopub.status.idle": "2023-03-07T11:46:25.495199Z",
     "shell.execute_reply": "2023-03-07T11:46:25.494173Z",
     "shell.execute_reply.started": "2023-03-07T11:46:25.487373Z"
    }
   },
   "outputs": [
    {
     "data": {
      "text/plain": [
       "<tf.Tensor: shape=(1, 256), dtype=int32, numpy=\n",
       "array([[  101,  2236, 14516,  2047,  5088,  6477,  8517,  1669,  2112,\n",
       "         1329,  6097,  1372,  2661,  5250, 18312,  1363,  2590,  6539,\n",
       "         2367,  2304,  5991, 23662,  1182,  3869,  3073,  6906,  1964,\n",
       "         5663,  2590,  6539,  2367,  2304,  1156,  1176,  1107,  1665,\n",
       "         7535,  1181,  2112,  3952, 10632,  5837, 11252,   179,  1320,\n",
       "         5837, 11252,  1328,  1267,   175, 22540,  5194,  2367,  2304,\n",
       "         2311,  4956,  1372,  2373,  2371, 11613,  2311,  1893,  1596,\n",
       "         1233,  2548,  6920,   175, 22540, 10857,  1818, 10116,  1268,\n",
       "         2810, 13373,  1231,  2246,  7729, 14255,  2883,  1116,  1159,\n",
       "          175, 22540,  2112, 28057,  1821,  1162,  2000,  9072, 11083,\n",
       "         1363,  7584,  7317,  1182,  4392,  1282,  2590,  1549,  1553,\n",
       "          172,  3161, 10182,  1233,  4056, 12862,  3644,  1231, 16481,\n",
       "         1324,  1385,  2590,  1618,  3076,  1499,  1838,  1136,  1324,\n",
       "         1260, 11135,  1231, 16481,  1324,  1385,  8366, 18026,  1159,\n",
       "         5991,  5250, 18312,  1660,  3254,  7136,  1204, 12862,  1603,\n",
       "         5565,  1197,  2304,  2303,  1210,  3501,  2076,   122,  1525,\n",
       "        12862,  2000,   189,  2047,  1469,  1470,   181, 13292, 22190,\n",
       "         1182,  1148,  5795,  1363,  1282,  2367,  5565,  1197, 12862,\n",
       "         2367,  1107,  3309, 18312,  1358, 10632,  1538, 17948,  1665,\n",
       "         1329,  5795,  1282,  1501,  1322,  6265,   123,  1911,  1156,\n",
       "        24034, 12316,  2000,  3043,  2810,  8910,  1643,  4889,  4400,\n",
       "         1354,  3232,  2904,  1107,  3309, 18312,  1358, 17948,  1665,\n",
       "          174,  7501,  1358,  9468,  3202,  1768,  4032,  1285,   124,\n",
       "         1940,  1116, 22494,  1389, 15027,  2047,  4134,   171, 17506,\n",
       "         2812, 14516,  2047,   175, 22540,  2112,  2373,  1329,  6097,\n",
       "         8715,  1306,  2771,  5991,  1842,  2646,  1444, 14609,  2548,\n",
       "         1413, 13936, 25392,  1182,  1321, 15925, 11549,  3952,  6346,\n",
       "         1939,  3644,  2112,  2812,  1146,   122,  6346,  6477,  8517,\n",
       "         3869,  1620,  2112,   102]], dtype=int32)>"
      ]
     },
     "execution_count": 99,
     "metadata": {},
     "output_type": "execute_result"
    }
   ],
   "source": [
    "token.input_ids"
   ]
  },
  {
   "cell_type": "code",
   "execution_count": 100,
   "metadata": {
    "execution": {
     "iopub.execute_input": "2023-03-07T11:46:25.497646Z",
     "iopub.status.busy": "2023-03-07T11:46:25.496569Z",
     "iopub.status.idle": "2023-03-07T11:46:25.505549Z",
     "shell.execute_reply": "2023-03-07T11:46:25.504322Z",
     "shell.execute_reply.started": "2023-03-07T11:46:25.497609Z"
    }
   },
   "outputs": [],
   "source": [
    "X_input_ids = np.zeros((len(df), 256))\n",
    "X_attn_masks = np.zeros((len(df), 256))"
   ]
  },
  {
   "cell_type": "code",
   "execution_count": 101,
   "metadata": {
    "execution": {
     "iopub.execute_input": "2023-03-07T11:46:25.507772Z",
     "iopub.status.busy": "2023-03-07T11:46:25.507155Z",
     "iopub.status.idle": "2023-03-07T11:46:25.516415Z",
     "shell.execute_reply": "2023-03-07T11:46:25.515109Z",
     "shell.execute_reply.started": "2023-03-07T11:46:25.507729Z"
    }
   },
   "outputs": [],
   "source": [
    "\n",
    "def generate_training_data(df, ids, masks, tokenizer):\n",
    "    for i, text in tqdm(enumerate(df['Document'])):\n",
    "        tokenized_text = tokenizer.encode_plus(\n",
    "            text,\n",
    "            max_length=256, \n",
    "            truncation=True, \n",
    "            padding='max_length', \n",
    "            add_special_tokens=True,\n",
    "            return_tensors='tf'\n",
    "        )\n",
    "        ids[i, :] = tokenized_text.input_ids\n",
    "        masks[i, :] = tokenized_text.attention_mask\n",
    "    return ids, masks"
   ]
  },
  {
   "cell_type": "code",
   "execution_count": 102,
   "metadata": {
    "execution": {
     "iopub.execute_input": "2023-03-07T11:46:25.522509Z",
     "iopub.status.busy": "2023-03-07T11:46:25.522051Z",
     "iopub.status.idle": "2023-03-07T11:46:32.872069Z",
     "shell.execute_reply": "2023-03-07T11:46:32.870841Z",
     "shell.execute_reply.started": "2023-03-07T11:46:25.522479Z"
    }
   },
   "outputs": [
    {
     "data": {
      "application/vnd.jupyter.widget-view+json": {
       "model_id": "fdebb99f65a5422590663f53decc82d0",
       "version_major": 2,
       "version_minor": 0
      },
      "text/plain": [
       "0it [00:00, ?it/s]"
      ]
     },
     "metadata": {},
     "output_type": "display_data"
    }
   ],
   "source": [
    "\n",
    "X_input_ids, X_attn_masks = generate_training_data(df, X_input_ids, X_attn_masks, tokenizer)"
   ]
  },
  {
   "cell_type": "code",
   "execution_count": 103,
   "metadata": {
    "execution": {
     "iopub.execute_input": "2023-03-07T11:46:32.874523Z",
     "iopub.status.busy": "2023-03-07T11:46:32.873811Z",
     "iopub.status.idle": "2023-03-07T11:46:32.882681Z",
     "shell.execute_reply": "2023-03-07T11:46:32.881577Z",
     "shell.execute_reply.started": "2023-03-07T11:46:32.874388Z"
    }
   },
   "outputs": [
    {
     "data": {
      "text/plain": [
       "(1000, 10)"
      ]
     },
     "execution_count": 103,
     "metadata": {},
     "output_type": "execute_result"
    }
   ],
   "source": [
    "labels = np.zeros((len(df), 10))\n",
    "labels.shape"
   ]
  },
  {
   "cell_type": "code",
   "execution_count": 104,
   "metadata": {
    "execution": {
     "iopub.execute_input": "2023-03-07T11:46:32.884753Z",
     "iopub.status.busy": "2023-03-07T11:46:32.884365Z",
     "iopub.status.idle": "2023-03-07T11:46:32.905233Z",
     "shell.execute_reply": "2023-03-07T11:46:32.903944Z",
     "shell.execute_reply.started": "2023-03-07T11:46:32.884714Z"
    }
   },
   "outputs": [
    {
     "data": {
      "text/html": [
       "<div>\n",
       "<style scoped>\n",
       "    .dataframe tbody tr th:only-of-type {\n",
       "        vertical-align: middle;\n",
       "    }\n",
       "\n",
       "    .dataframe tbody tr th {\n",
       "        vertical-align: top;\n",
       "    }\n",
       "\n",
       "    .dataframe thead th {\n",
       "        text-align: right;\n",
       "    }\n",
       "</style>\n",
       "<table border=\"1\" class=\"dataframe\">\n",
       "  <thead>\n",
       "    <tr style=\"text-align: right;\">\n",
       "      <th></th>\n",
       "      <th>Title</th>\n",
       "      <th>Document</th>\n",
       "      <th>Class</th>\n",
       "    </tr>\n",
       "  </thead>\n",
       "  <tbody>\n",
       "    <tr>\n",
       "      <th>0</th>\n",
       "      <td>space_73.txt</td>\n",
       "      <td>date seri link messag period post usenet group...</td>\n",
       "      <td>0</td>\n",
       "    </tr>\n",
       "    <tr>\n",
       "      <th>1</th>\n",
       "      <td>space_33.txt</td>\n",
       "      <td>shag rob unverzagt write articl 5apr1993180450...</td>\n",
       "      <td>0</td>\n",
       "    </tr>\n",
       "    <tr>\n",
       "      <th>2</th>\n",
       "      <td>space_5.txt</td>\n",
       "      <td>anyon know size cold ga roll control thruster ...</td>\n",
       "      <td>0</td>\n",
       "    </tr>\n",
       "    <tr>\n",
       "      <th>3</th>\n",
       "      <td>space_8.txt</td>\n",
       "      <td>nanderso norman anderson write jmcocker mitch ...</td>\n",
       "      <td>0</td>\n",
       "    </tr>\n",
       "    <tr>\n",
       "      <th>4</th>\n",
       "      <td>space_66.txt</td>\n",
       "      <td>recent observ taken hubbl space telescop faint...</td>\n",
       "      <td>0</td>\n",
       "    </tr>\n",
       "    <tr>\n",
       "      <th>...</th>\n",
       "      <td>...</td>\n",
       "      <td>...</td>\n",
       "      <td>...</td>\n",
       "    </tr>\n",
       "    <tr>\n",
       "      <th>995</th>\n",
       "      <td>business_79.txt</td>\n",
       "      <td>us interest rate rise expect us interest rate ...</td>\n",
       "      <td>9</td>\n",
       "    </tr>\n",
       "    <tr>\n",
       "      <th>996</th>\n",
       "      <td>business_61.txt</td>\n",
       "      <td>hous price drop sale slow hous price fell nove...</td>\n",
       "      <td>9</td>\n",
       "    </tr>\n",
       "    <tr>\n",
       "      <th>997</th>\n",
       "      <td>business_52.txt</td>\n",
       "      <td>uk economi face uk manufactur sector continu f...</td>\n",
       "      <td>9</td>\n",
       "    </tr>\n",
       "    <tr>\n",
       "      <th>998</th>\n",
       "      <td>business_13.txt</td>\n",
       "      <td>industri reviv hope japan japanes industri gro...</td>\n",
       "      <td>9</td>\n",
       "    </tr>\n",
       "    <tr>\n",
       "      <th>999</th>\n",
       "      <td>business_5.txt</td>\n",
       "      <td>peugeot deal boost mitsubishi struggl japanes ...</td>\n",
       "      <td>9</td>\n",
       "    </tr>\n",
       "  </tbody>\n",
       "</table>\n",
       "<p>1000 rows × 3 columns</p>\n",
       "</div>"
      ],
      "text/plain": [
       "               Title                                           Document  Class\n",
       "0       space_73.txt  date seri link messag period post usenet group...      0\n",
       "1       space_33.txt  shag rob unverzagt write articl 5apr1993180450...      0\n",
       "2        space_5.txt  anyon know size cold ga roll control thruster ...      0\n",
       "3        space_8.txt  nanderso norman anderson write jmcocker mitch ...      0\n",
       "4       space_66.txt  recent observ taken hubbl space telescop faint...      0\n",
       "..               ...                                                ...    ...\n",
       "995  business_79.txt  us interest rate rise expect us interest rate ...      9\n",
       "996  business_61.txt  hous price drop sale slow hous price fell nove...      9\n",
       "997  business_52.txt  uk economi face uk manufactur sector continu f...      9\n",
       "998  business_13.txt  industri reviv hope japan japanes industri gro...      9\n",
       "999   business_5.txt  peugeot deal boost mitsubishi struggl japanes ...      9\n",
       "\n",
       "[1000 rows x 3 columns]"
      ]
     },
     "execution_count": 104,
     "metadata": {},
     "output_type": "execute_result"
    }
   ],
   "source": [
    "df['Class'] = pd.factorize(df['Class'])[0]\n",
    "df"
   ]
  },
  {
   "cell_type": "code",
   "execution_count": 105,
   "metadata": {
    "execution": {
     "iopub.execute_input": "2023-03-07T11:46:32.907635Z",
     "iopub.status.busy": "2023-03-07T11:46:32.907144Z",
     "iopub.status.idle": "2023-03-07T11:46:32.914587Z",
     "shell.execute_reply": "2023-03-07T11:46:32.913350Z",
     "shell.execute_reply.started": "2023-03-07T11:46:32.907598Z"
    }
   },
   "outputs": [],
   "source": [
    "labels[np.arange(len(df)), df['Class'].values.astype(int)] = 1"
   ]
  },
  {
   "cell_type": "code",
   "execution_count": 106,
   "metadata": {
    "execution": {
     "iopub.execute_input": "2023-03-07T11:46:32.916831Z",
     "iopub.status.busy": "2023-03-07T11:46:32.916036Z",
     "iopub.status.idle": "2023-03-07T11:46:32.933900Z",
     "shell.execute_reply": "2023-03-07T11:46:32.932689Z",
     "shell.execute_reply.started": "2023-03-07T11:46:32.916785Z"
    }
   },
   "outputs": [
    {
     "data": {
      "text/plain": [
       "<TakeDataset element_spec=(TensorSpec(shape=(256,), dtype=tf.float64, name=None), TensorSpec(shape=(256,), dtype=tf.float64, name=None), TensorSpec(shape=(10,), dtype=tf.float64, name=None))>"
      ]
     },
     "execution_count": 106,
     "metadata": {},
     "output_type": "execute_result"
    }
   ],
   "source": [
    "\n",
    "# creating a data pipeline using tensorflow dataset utility, creates batches of data for easy loading...\n",
    "dataset = tf.data.Dataset.from_tensor_slices((X_input_ids, X_attn_masks, labels))\n",
    "dataset.take(1) # one sample data\n",
    "     "
   ]
  },
  {
   "cell_type": "code",
   "execution_count": 107,
   "metadata": {
    "execution": {
     "iopub.execute_input": "2023-03-07T11:46:32.937267Z",
     "iopub.status.busy": "2023-03-07T11:46:32.936955Z",
     "iopub.status.idle": "2023-03-07T11:46:32.942429Z",
     "shell.execute_reply": "2023-03-07T11:46:32.940908Z",
     "shell.execute_reply.started": "2023-03-07T11:46:32.937240Z"
    }
   },
   "outputs": [],
   "source": [
    "\n",
    "def ModelDatasetMapFunction(input_ids, attn_masks, labels):\n",
    "    return {\n",
    "        'input_ids': input_ids,\n",
    "        'attention_mask': attn_masks\n",
    "    }, labels\n",
    "     "
   ]
  },
  {
   "cell_type": "code",
   "execution_count": 108,
   "metadata": {
    "execution": {
     "iopub.execute_input": "2023-03-07T11:46:32.945113Z",
     "iopub.status.busy": "2023-03-07T11:46:32.944314Z",
     "iopub.status.idle": "2023-03-07T11:46:32.988568Z",
     "shell.execute_reply": "2023-03-07T11:46:32.987609Z",
     "shell.execute_reply.started": "2023-03-07T11:46:32.945047Z"
    }
   },
   "outputs": [],
   "source": [
    "dataset = dataset.map(ModelDatasetMapFunction)"
   ]
  },
  {
   "cell_type": "code",
   "execution_count": 109,
   "metadata": {
    "execution": {
     "iopub.execute_input": "2023-03-07T11:46:32.990486Z",
     "iopub.status.busy": "2023-03-07T11:46:32.990132Z",
     "iopub.status.idle": "2023-03-07T11:46:32.999451Z",
     "shell.execute_reply": "2023-03-07T11:46:32.998329Z",
     "shell.execute_reply.started": "2023-03-07T11:46:32.990450Z"
    }
   },
   "outputs": [
    {
     "data": {
      "text/plain": [
       "<TakeDataset element_spec=({'input_ids': TensorSpec(shape=(256,), dtype=tf.float64, name=None), 'attention_mask': TensorSpec(shape=(256,), dtype=tf.float64, name=None)}, TensorSpec(shape=(10,), dtype=tf.float64, name=None))>"
      ]
     },
     "execution_count": 109,
     "metadata": {},
     "output_type": "execute_result"
    }
   ],
   "source": [
    "\n",
    "dataset.take(1)"
   ]
  },
  {
   "cell_type": "code",
   "execution_count": 110,
   "metadata": {
    "execution": {
     "iopub.execute_input": "2023-03-07T11:46:33.002856Z",
     "iopub.status.busy": "2023-03-07T11:46:33.000872Z",
     "iopub.status.idle": "2023-03-07T11:46:33.009868Z",
     "shell.execute_reply": "2023-03-07T11:46:33.009129Z",
     "shell.execute_reply.started": "2023-03-07T11:46:33.002808Z"
    }
   },
   "outputs": [],
   "source": [
    "\n",
    "\n",
    "dataset = dataset.shuffle(10000).batch(16, drop_remainder=True) # batch size, drop any left out tensor"
   ]
  },
  {
   "cell_type": "code",
   "execution_count": 111,
   "metadata": {
    "execution": {
     "iopub.execute_input": "2023-03-07T11:46:33.011899Z",
     "iopub.status.busy": "2023-03-07T11:46:33.011110Z",
     "iopub.status.idle": "2023-03-07T11:46:33.018614Z",
     "shell.execute_reply": "2023-03-07T11:46:33.017517Z",
     "shell.execute_reply.started": "2023-03-07T11:46:33.011862Z"
    }
   },
   "outputs": [],
   "source": [
    "\n",
    "p = 0.8\n",
    "train_size = int((len(df)//16)*p) # for each 16 batch of data we will have len(df)//16 samples, take 80% of that for train"
   ]
  },
  {
   "cell_type": "code",
   "execution_count": 112,
   "metadata": {
    "execution": {
     "iopub.execute_input": "2023-03-07T11:46:33.020832Z",
     "iopub.status.busy": "2023-03-07T11:46:33.019842Z",
     "iopub.status.idle": "2023-03-07T11:46:33.030632Z",
     "shell.execute_reply": "2023-03-07T11:46:33.029787Z",
     "shell.execute_reply.started": "2023-03-07T11:46:33.020794Z"
    }
   },
   "outputs": [
    {
     "data": {
      "text/plain": [
       "49"
      ]
     },
     "execution_count": 112,
     "metadata": {},
     "output_type": "execute_result"
    }
   ],
   "source": [
    "\n",
    "train_size\n"
   ]
  },
  {
   "cell_type": "code",
   "execution_count": 113,
   "metadata": {
    "execution": {
     "iopub.execute_input": "2023-03-07T11:46:33.032648Z",
     "iopub.status.busy": "2023-03-07T11:46:33.031783Z",
     "iopub.status.idle": "2023-03-07T11:46:33.041012Z",
     "shell.execute_reply": "2023-03-07T11:46:33.040123Z",
     "shell.execute_reply.started": "2023-03-07T11:46:33.032620Z"
    }
   },
   "outputs": [],
   "source": [
    "\n",
    "train_dataset = dataset.take(train_size)\n",
    "val_dataset = dataset.skip(train_size)\n",
    "     "
   ]
  },
  {
   "cell_type": "markdown",
   "metadata": {},
   "source": [
    "# Creating Model"
   ]
  },
  {
   "cell_type": "code",
   "execution_count": 114,
   "metadata": {
    "execution": {
     "iopub.execute_input": "2023-03-07T11:46:33.043267Z",
     "iopub.status.busy": "2023-03-07T11:46:33.042806Z",
     "iopub.status.idle": "2023-03-07T11:46:33.050162Z",
     "shell.execute_reply": "2023-03-07T11:46:33.049183Z",
     "shell.execute_reply.started": "2023-03-07T11:46:33.043228Z"
    }
   },
   "outputs": [],
   "source": [
    "\n",
    "from transformers import TFBertModel"
   ]
  },
  {
   "cell_type": "code",
   "execution_count": 115,
   "metadata": {
    "execution": {
     "iopub.execute_input": "2023-03-07T11:46:33.052206Z",
     "iopub.status.busy": "2023-03-07T11:46:33.051736Z",
     "iopub.status.idle": "2023-03-07T11:46:34.470605Z",
     "shell.execute_reply": "2023-03-07T11:46:34.469530Z",
     "shell.execute_reply.started": "2023-03-07T11:46:33.052172Z"
    }
   },
   "outputs": [
    {
     "name": "stderr",
     "output_type": "stream",
     "text": [
      "Some layers from the model checkpoint at bert-base-cased were not used when initializing TFBertModel: ['mlm___cls', 'nsp___cls']\n",
      "- This IS expected if you are initializing TFBertModel from the checkpoint of a model trained on another task or with another architecture (e.g. initializing a BertForSequenceClassification model from a BertForPreTraining model).\n",
      "- This IS NOT expected if you are initializing TFBertModel from the checkpoint of a model that you expect to be exactly identical (initializing a BertForSequenceClassification model from a BertForSequenceClassification model).\n",
      "All the layers of TFBertModel were initialized from the model checkpoint at bert-base-cased.\n",
      "If your task is similar to the task the model of the checkpoint was trained on, you can already use TFBertModel for predictions without further training.\n"
     ]
    }
   ],
   "source": [
    "\n",
    "model = TFBertModel.from_pretrained('bert-base-cased')"
   ]
  },
  {
   "cell_type": "code",
   "execution_count": 116,
   "metadata": {
    "execution": {
     "iopub.execute_input": "2023-03-07T11:46:34.476860Z",
     "iopub.status.busy": "2023-03-07T11:46:34.476501Z",
     "iopub.status.idle": "2023-03-07T11:46:36.413577Z",
     "shell.execute_reply": "2023-03-07T11:46:36.412641Z",
     "shell.execute_reply.started": "2023-03-07T11:46:34.476828Z"
    }
   },
   "outputs": [
    {
     "name": "stdout",
     "output_type": "stream",
     "text": [
      "Model: \"model_2\"\n",
      "__________________________________________________________________________________________________\n",
      " Layer (type)                   Output Shape         Param #     Connected to                     \n",
      "==================================================================================================\n",
      " input_ids (InputLayer)         [(None, 256)]        0           []                               \n",
      "                                                                                                  \n",
      " attention_mask (InputLayer)    [(None, 256)]        0           []                               \n",
      "                                                                                                  \n",
      " bert (TFBertMainLayer)         TFBaseModelOutputWi  108310272   ['input_ids[0][0]',              \n",
      "                                thPoolingAndCrossAt               'attention_mask[0][0]']         \n",
      "                                tentions(last_hidde                                               \n",
      "                                n_state=(None, 256,                                               \n",
      "                                 768),                                                            \n",
      "                                 pooler_output=(Non                                               \n",
      "                                e, 768),                                                          \n",
      "                                 past_key_values=No                                               \n",
      "                                ne, hidden_states=N                                               \n",
      "                                one, attentions=Non                                               \n",
      "                                e, cross_attentions                                               \n",
      "                                =None)                                                            \n",
      "                                                                                                  \n",
      " intermediate_layer (Dense)     (None, 512)          393728      ['bert[0][1]']                   \n",
      "                                                                                                  \n",
      " dropout (Dropout)              (None, 512)          0           ['intermediate_layer[0][0]']     \n",
      "                                                                                                  \n",
      " output_layer (Dense)           (None, 10)           5130        ['dropout[0][0]']                \n",
      "                                                                                                  \n",
      "==================================================================================================\n",
      "Total params: 108,709,130\n",
      "Trainable params: 108,709,130\n",
      "Non-trainable params: 0\n",
      "__________________________________________________________________________________________________\n"
     ]
    }
   ],
   "source": [
    "from tensorflow.keras import regularizers\n",
    "input_ids = tf.keras.layers.Input(shape=(256,), name='input_ids', dtype='int32')\n",
    "attn_masks = tf.keras.layers.Input(shape=(256,), name='attention_mask', dtype='int32')\n",
    "bert_embds = model.bert(input_ids, attention_mask=attn_masks)[1] # 0 -> activation layer (3D), 1 -> pooled output layer (2D)\n",
    "intermediate_layer = tf.keras.layers.Dense(512, activation='relu', name='intermediate_layer', kernel_regularizer=regularizers.l2(0.01))(bert_embds)\n",
    "drop_out = tf.keras.layers.Dropout(0.2, name=\"dropout\")(intermediate_layer)\n",
    "output_layer = tf.keras.layers.Dense(10, activation='softmax', name='output_layer', kernel_regularizer=regularizers.l2(0.01))(drop_out) # softmax -> calcs probs of classes\n",
    "\n",
    "model = tf.keras.Model(inputs=[input_ids, attn_masks], outputs=output_layer)\n",
    "model.summary()\n"
   ]
  },
  {
   "cell_type": "code",
   "execution_count": 117,
   "metadata": {
    "execution": {
     "iopub.execute_input": "2023-03-07T11:46:36.421730Z",
     "iopub.status.busy": "2023-03-07T11:46:36.421339Z",
     "iopub.status.idle": "2023-03-07T11:46:36.452921Z",
     "shell.execute_reply": "2023-03-07T11:46:36.451945Z",
     "shell.execute_reply.started": "2023-03-07T11:46:36.421691Z"
    }
   },
   "outputs": [],
   "source": [
    "learning_rate_schedule = tf.keras.optimizers.schedules.ExponentialDecay(\n",
    "    initial_learning_rate=1e-5, decay_rate=1e-6, decay_steps=10000)\n",
    "\n",
    "optim = tf.keras.optimizers.Adam(learning_rate=learning_rate_schedule)\n",
    "\n",
    "loss_func = tf.keras.losses.CategoricalCrossentropy()\n",
    "\n",
    "acc = tf.keras.metrics.CategoricalAccuracy('accuracy')\n",
    "precision = tf.keras.metrics.Precision(name='precision')\n",
    "recall = tf.keras.metrics.Recall(name='recall')\n",
    "\n",
    "model.compile(optimizer=optim, loss=loss_func, metrics=[acc, precision, recall])\n",
    "\n"
   ]
  },
  {
   "cell_type": "code",
   "execution_count": 118,
   "metadata": {
    "execution": {
     "iopub.execute_input": "2023-03-07T11:46:36.455604Z",
     "iopub.status.busy": "2023-03-07T11:46:36.454493Z",
     "iopub.status.idle": "2023-03-07T11:52:03.335331Z",
     "shell.execute_reply": "2023-03-07T11:52:03.334157Z",
     "shell.execute_reply.started": "2023-03-07T11:46:36.455564Z"
    }
   },
   "outputs": [
    {
     "name": "stdout",
     "output_type": "stream",
     "text": [
      "Epoch 1/5\n",
      "49/49 [==============================] - 83s 939ms/step - loss: 8.6810 - accuracy: 0.1250 - precision: 0.0000e+00 - recall: 0.0000e+00 - val_loss: 8.4610 - val_accuracy: 0.1731 - val_precision: 0.0000e+00 - val_recall: 0.0000e+00\n",
      "Epoch 2/5\n",
      "49/49 [==============================] - 46s 946ms/step - loss: 8.1654 - accuracy: 0.3673 - precision: 0.9250 - recall: 0.0472 - val_loss: 7.4915 - val_accuracy: 0.7837 - val_precision: 0.9722 - val_recall: 0.1683\n",
      "Epoch 3/5\n",
      "49/49 [==============================] - 49s 999ms/step - loss: 7.2319 - accuracy: 0.7602 - precision: 0.9610 - recall: 0.3776 - val_loss: 6.8071 - val_accuracy: 0.9183 - val_precision: 0.9639 - val_recall: 0.7692\n",
      "Epoch 4/5\n",
      "49/49 [==============================] - 48s 989ms/step - loss: 6.7200 - accuracy: 0.9056 - precision: 0.9674 - recall: 0.7959 - val_loss: 6.5027 - val_accuracy: 0.9375 - val_precision: 0.9697 - val_recall: 0.9231\n",
      "Epoch 5/5\n",
      "49/49 [==============================] - 49s 999ms/step - loss: 6.5091 - accuracy: 0.9464 - precision: 0.9689 - recall: 0.9133 - val_loss: 6.3462 - val_accuracy: 0.9808 - val_precision: 0.9902 - val_recall: 0.9712\n"
     ]
    }
   ],
   "source": [
    "\n",
    "hist =model.fit(\n",
    "    train_dataset,\n",
    "    validation_data=val_dataset,\n",
    "    epochs=5\n",
    ")"
   ]
  },
  {
   "cell_type": "markdown",
   "metadata": {},
   "source": [
    "## Evaluation\n"
   ]
  },
  {
   "cell_type": "code",
   "execution_count": 119,
   "metadata": {
    "execution": {
     "iopub.execute_input": "2023-03-07T11:52:03.338261Z",
     "iopub.status.busy": "2023-03-07T11:52:03.336861Z",
     "iopub.status.idle": "2023-03-07T11:52:08.467930Z",
     "shell.execute_reply": "2023-03-07T11:52:08.466818Z",
     "shell.execute_reply.started": "2023-03-07T11:52:03.338201Z"
    }
   },
   "outputs": [
    {
     "name": "stdout",
     "output_type": "stream",
     "text": [
      "13/13 [==============================] - 4s 303ms/step - loss: 6.3683 - accuracy: 0.9712 - precision: 0.9854 - recall: 0.9712\n"
     ]
    },
    {
     "data": {
      "text/plain": [
       "[6.368301868438721, 0.9711538553237915, 0.9853658676147461, 0.9711538553237915]"
      ]
     },
     "execution_count": 119,
     "metadata": {},
     "output_type": "execute_result"
    }
   ],
   "source": [
    "model.evaluate(val_dataset)"
   ]
  },
  {
   "cell_type": "code",
   "execution_count": 120,
   "metadata": {
    "execution": {
     "iopub.execute_input": "2023-03-07T11:52:08.471122Z",
     "iopub.status.busy": "2023-03-07T11:52:08.469971Z",
     "iopub.status.idle": "2023-03-07T11:52:12.788935Z",
     "shell.execute_reply": "2023-03-07T11:52:12.787443Z",
     "shell.execute_reply.started": "2023-03-07T11:52:08.471060Z"
    }
   },
   "outputs": [
    {
     "data": {
      "image/png": "[encoded data removed]",
      "text/plain": [
       "<Figure size 640x480 with 1 Axes>"
      ]
     },
     "metadata": {},
     "output_type": "display_data"
    },
    {
     "name": "stdout",
     "output_type": "stream",
     "text": [
      "13/13 [==============================] - 4s 310ms/step - loss: 6.3801 - accuracy: 0.9712 - precision: 0.9804 - recall: 0.9615\n",
      "\n",
      "\n",
      "\n",
      "\n",
      "loss is :  6.380051612854004\n",
      "accuracy is:  97%\n",
      "recall is:  96%\n",
      "Precision is :  98%\n"
     ]
    }
   ],
   "source": [
    "import matplotlib.pyplot as plt\n",
    "train_acc = hist.history['accuracy']\n",
    "val_acc = hist.history['val_accuracy']\n",
    "\n",
    "# Plot the epoch vs accuracy graph\n",
    "plt.plot(range(1, len(train_acc) + 1), train_acc, label='Training Accuracy')\n",
    "plt.plot(range(1, len(val_acc) + 1), val_acc, label='Validation Accuracy')\n",
    "plt.title('Epoch vs Accuracy')\n",
    "plt.xlabel('Epoch')\n",
    "plt.ylabel('Accuracy')\n",
    "plt.legend()\n",
    "plt.show()\n",
    "loss,accuracy,precision,recall=model.evaluate(val_dataset)\n",
    "print()\n",
    "print()\n",
    "print()\n",
    "print()\n",
    "print(\"loss is : \", loss)\n",
    "\n",
    "print(\"accuracy is: \", str(round(accuracy*100))+ \"%\")\n",
    "print(\"recall is: \", str(round(recall*100)) + \"%\")\n",
    "print(\"Precision is : \", str(round(precision*100)) + \"%\")"
   ]
  },
  {
   "cell_type": "code",
   "execution_count": 121,
   "metadata": {
    "execution": {
     "iopub.execute_input": "2023-03-07T11:52:12.790997Z",
     "iopub.status.busy": "2023-03-07T11:52:12.790626Z",
     "iopub.status.idle": "2023-03-07T11:52:52.708853Z",
     "shell.execute_reply": "2023-03-07T11:52:52.707742Z",
     "shell.execute_reply.started": "2023-03-07T11:52:12.790959Z"
    }
   },
   "outputs": [],
   "source": [
    "model.save('model')"
   ]
  },
  {
   "cell_type": "code",
   "execution_count": 122,
   "metadata": {
    "execution": {
     "iopub.execute_input": "2023-03-07T11:52:52.715850Z",
     "iopub.status.busy": "2023-03-07T11:52:52.714792Z",
     "iopub.status.idle": "2023-03-07T11:52:52.900917Z",
     "shell.execute_reply": "2023-03-07T11:52:52.899908Z",
     "shell.execute_reply.started": "2023-03-07T11:52:52.715806Z"
    }
   },
   "outputs": [],
   "source": [
    "\n",
    "# model = tf.keras.models.load_model('model')\n",
    "\n",
    "tokenizer = BertTokenizer.from_pretrained('bert-base-cased')\n",
    "\n",
    "def prepare_data(input_text, tokenizer):\n",
    "    token = tokenizer.encode_plus(\n",
    "        input_text,\n",
    "        max_length=256, \n",
    "        truncation=True, \n",
    "        padding='max_length', \n",
    "        add_special_tokens=True,\n",
    "        return_tensors='tf'\n",
    "    )\n",
    "    return {\n",
    "        'input_ids': tf.cast(token.input_ids, tf.float64),\n",
    "        'attention_mask': tf.cast(token.attention_mask, tf.float64)\n",
    "    }\n",
    "\n",
    "def make_prediction(model, processed_data, classes=['business', 'Entertainment', 'food', 'Graphichs', 'historical','medical','politcis', 'space','sport','technology']):\n",
    "    probs = model.predict(processed_data)[0]\n",
    "    return np.argmax(probs)\n",
    "     "
   ]
  },
  {
   "cell_type": "markdown",
   "metadata": {},
   "source": [
    "# Prediction"
   ]
  },
  {
   "cell_type": "code",
   "execution_count": 123,
   "metadata": {
    "execution": {
     "iopub.execute_input": "2023-03-07T11:52:52.903022Z",
     "iopub.status.busy": "2023-03-07T11:52:52.902635Z",
     "iopub.status.idle": "2023-03-07T11:52:53.144491Z",
     "shell.execute_reply": "2023-03-07T11:52:53.142662Z",
     "shell.execute_reply.started": "2023-03-07T11:52:52.902985Z"
    }
   },
   "outputs": [],
   "source": [
    "dict1 = {0:\"Space\", 1:\"Politics\",2:\"Sport\",3:\"technology\",4:\"historical\", 5:\"Medical\", 6:\"Graphics\",7:\"Entertrainment\",8:\"Food\",9:\"business\"}"
   ]
  },
  {
   "cell_type": "code",
   "execution_count": 124,
   "metadata": {
    "execution": {
     "iopub.execute_input": "2023-03-07T11:52:53.147692Z",
     "iopub.status.busy": "2023-03-07T11:52:53.146467Z",
     "iopub.status.idle": "2023-03-07T11:52:53.160620Z",
     "shell.execute_reply": "2023-03-07T11:52:53.158925Z",
     "shell.execute_reply.started": "2023-03-07T11:52:53.147649Z"
    }
   },
   "outputs": [],
   "source": [
    "text = \"\"\"Bank voted 8-1 for no rate change\n",
    "\n",
    "The decision to keep interest rates on hold at 4.75% earlier this month was passed 8-1 by the Bank of England's rate-setting body, minutes have shown.\n",
    "\n",
    "One member of the Bank's Monetary Policy Committee (MPC) - Paul Tucker - voted to raise rates to 5%. The news surprised some analysts who had expected the latest minutes to show another unanimous decision. Worries over growth rates and consumer spending were behind the decision to freeze rates, the minutes showed. The Bank's latest inflation report, released last week, had noted that the main reason inflation might fall was weaker consumer spending.\n",
    "\n",
    "However, MPC member Paul Tucker voted for a quarter point rise in interest rates to 5%. He argued that economic growth was picking up, and that the equity, credit and housing markets had been stronger than expected.\n",
    "\n",
    "The Bank's minutes said that risks to the inflation forecast were \"sufficiently to the downside\" to keep rates on hold at its latest meeting. However, the minutes added: \"Some members noted that an increase might be warranted in due course if the economy evolved in line with the central projection\". Ross Walker, UK economist at Royal Bank of Scotland, said he was surprised that a dissenting vote had been made so soon. He said the minutes appeared to be \"trying to get the market to focus on the possibility of a rise in rates\". \"If the economy pans out as they expect then they are probably going to have to hike rates.\" However, he added, any rate increase is not likely to happen until later this year, with MPC members likely to look for a more sustainable pick up in consumer spending before acting.\n",
    "\"\"\""
   ]
  },
  {
   "cell_type": "code",
   "execution_count": 125,
   "metadata": {
    "execution": {
     "iopub.execute_input": "2023-03-07T11:52:53.164331Z",
     "iopub.status.busy": "2023-03-07T11:52:53.162772Z",
     "iopub.status.idle": "2023-03-07T11:52:56.418930Z",
     "shell.execute_reply": "2023-03-07T11:52:56.417770Z",
     "shell.execute_reply.started": "2023-03-07T11:52:53.164289Z"
    }
   },
   "outputs": [
    {
     "name": "stdout",
     "output_type": "stream",
     "text": [
      "1/1 [==============================] - 3s 3s/step\n",
      "Predicted model: 9\n"
     ]
    }
   ],
   "source": [
    "input_text = text\n",
    "processed_data = prepare_data(input_text, tokenizer)\n",
    "result = make_prediction(model, processed_data=processed_data)\n",
    "print(f\"Predicted model: {result}\")\n",
    "     "
   ]
  },
  {
   "cell_type": "code",
   "execution_count": 126,
   "metadata": {
    "execution": {
     "iopub.execute_input": "2023-03-07T11:52:56.420948Z",
     "iopub.status.busy": "2023-03-07T11:52:56.420566Z",
     "iopub.status.idle": "2023-03-07T11:52:56.425895Z",
     "shell.execute_reply": "2023-03-07T11:52:56.424714Z",
     "shell.execute_reply.started": "2023-03-07T11:52:56.420908Z"
    }
   },
   "outputs": [],
   "source": [
    "output = dict1[result]"
   ]
  },
  {
   "cell_type": "code",
   "execution_count": 127,
   "metadata": {
    "execution": {
     "iopub.execute_input": "2023-03-07T11:52:56.428267Z",
     "iopub.status.busy": "2023-03-07T11:52:56.427615Z",
     "iopub.status.idle": "2023-03-07T11:52:56.440054Z",
     "shell.execute_reply": "2023-03-07T11:52:56.438445Z",
     "shell.execute_reply.started": "2023-03-07T11:52:56.428229Z"
    }
   },
   "outputs": [
    {
     "name": "stdout",
     "output_type": "stream",
     "text": [
      "business\n"
     ]
    }
   ],
   "source": [
    "print(output)"
   ]
  },
  {
   "cell_type": "code",
   "execution_count": null,
   "metadata": {},
   "outputs": [],
   "source": []
  }
 ],
 "metadata": {
  "kernelspec": {
   "display_name": "sample",
   "language": "python",
   "name": "sample"
  },
  "language_info": {
   "codemirror_mode": {
    "name": "ipython",
    "version": 3
   },
   "file_extension": ".py",
   "mimetype": "text/x-python",
   "name": "python",
   "nbconvert_exporter": "python",
   "pygments_lexer": "ipython3",
   "version": "3.9.16"
  }
 },
 "nbformat": 4,
 "nbformat_minor": 4
}
